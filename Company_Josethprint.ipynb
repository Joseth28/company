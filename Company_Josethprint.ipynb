{
  "nbformat": 4,
  "nbformat_minor": 0,
  "metadata": {
    "colab": {
      "provenance": [],
      "authorship_tag": "ABX9TyOSmY3ojgMr9bireRxWxT9E",
      "include_colab_link": true
    },
    "kernelspec": {
      "name": "python3",
      "display_name": "Python 3"
    },
    "language_info": {
      "name": "python"
    }
  },
  "cells": [
    {
      "cell_type": "markdown",
      "metadata": {
        "id": "view-in-github",
        "colab_type": "text"
      },
      "source": [
        "<a href=\"https://colab.research.google.com/github/Joseth28/company/blob/main/Company_Josethprint.ipynb\" target=\"_parent\"><img src=\"https://colab.research.google.com/assets/colab-badge.svg\" alt=\"Open In Colab\"/></a>"
      ]
    },
    {
      "cell_type": "markdown",
      "source": [
        "\n",
        "Presentado por: Joseth rodriguez cardales\n",
        "\n",
        "Email: joseth.rodriguez@upb.edu.co\n",
        "\n",
        "ID: 000549061\n",
        "\n"
      ],
      "metadata": {
        "id": "52R2xsu1MWL1"
      }
    },
    {
      "cell_type": "code",
      "execution_count": 11,
      "metadata": {
        "id": "ji6oFHsP_rbr",
        "colab": {
          "base_uri": "https://localhost:8080/"
        },
        "outputId": "323e277b-dab6-4c16-852f-4ebbda08e8ba"
      },
      "outputs": [
        {
          "output_type": "stream",
          "name": "stdout",
          "text": [
            "Employee wiht id 1 added sucessfull to the meeting!\n",
            "Employee wiht id 2 added sucessfull to the meeting!\n",
            "Employee wiht id 3 added sucessfull to the meeting!\n",
            "Employee wiht id 4 added sucessfull to the meeting!\n",
            "# Attendees to the meeting: 4\n",
            "\n",
            "My name is luis and I work for Compañia Josethprint\n",
            "My id is 1\n",
            "\n",
            "My name is Jack and I work for Compañia Josethprint\n",
            "My id is 2\n",
            "\n",
            "My name is Joseth and I work for Compañia Josethprint\n",
            "My id is 3\n",
            "I am an Admin\n",
            "Username: 3; Role: Admin\n",
            "\n",
            "My name is stebam and I work for Compañia Josethprint\n",
            "My id is 4\n",
            "I am an Admin\n",
            "I am in Boos\n",
            "Username: 4; Role: Admin\n"
          ]
        }
      ],
      "source": [
        "from abc import ABC, abstractmethod\n",
        "\n",
        "# Abstract Employee\n",
        "class AbstractEmployee(ABC):\n",
        "    def __init__(self):\n",
        "        self.id = AbstractEmployee.new_id\n",
        "        AbstractEmployee.new_id += 1\n",
        "    @abstractmethod\n",
        "    def say_id(self):\n",
        "        pass\n",
        "\n",
        "# Employee\n",
        "class Employee(AbstractEmployee):\n",
        "    new_id = 1\n",
        "\n",
        "    def __init__(self):\n",
        "        self.id = Employee.new_id\n",
        "        Employee.new_id += 1\n",
        "        self._name = None  # Atributo para el nombre del empleado\n",
        "        self.__company = \"Compañia Josethprint\"  # Atributo privado con nombre de la compañía\n",
        "\n",
        "    def say_id(self):\n",
        "        print(f\"My id is {self.id}\")\n",
        "\n",
        "    # Getter y setter para el atributo _name\n",
        "    def get_name(self):\n",
        "        return self._name\n",
        "\n",
        "    def set_name(self, name):\n",
        "        self._name = name\n",
        "\n",
        "    # Deleter para el atributo _name\n",
        "    def del_name(self):\n",
        "        self._name\n",
        "\n",
        "# User\n",
        "class User:\n",
        "    def __init__(self, username, role):\n",
        "        self.username = self.id\n",
        "        self.role = role\n",
        "\n",
        "    def say_user_info(self):\n",
        "        print(f\"Username: {self.username}; Role: {self.role}\")\n",
        "\n",
        "# Admin\n",
        "class Admin(Employee, User):\n",
        "    def __init__(self, username):\n",
        "        # Inicializa Employee y User\n",
        "        Employee.__init__(self)\n",
        "        User.__init__(self, username, \"Admin\")\n",
        "\n",
        "    def say_id(self):\n",
        "        super().say_id()  # Llama a say_id de Employee\n",
        "        print(\"I am an Admin\")\n",
        "\n",
        "# Manager\n",
        "class Manager(Admin):\n",
        "    def __init__(self, username):\n",
        "        super().__init__(username)\n",
        "\n",
        "    def say_id(self):\n",
        "        super().say_id()  # Llama a say_id de Admin\n",
        "        print(\"I am in Boos\")\n",
        "\n",
        "# Meeting\n",
        "class Meeting:\n",
        "    def __init__(self):\n",
        "        self.attendees = []\n",
        "\n",
        "    def __add__(self, employee):\n",
        "        if isinstance(employee, Employee):\n",
        "            self.attendees.append(employee)\n",
        "            print(f\"Employee wiht id {employee.id} added sucessfull to the meeting!\")\n",
        "        return self\n",
        "\n",
        "    def __len__(self):\n",
        "        return len(self.attendees)\n",
        "\n",
        "e1 = Employee()\n",
        "e2 = Employee()\n",
        "e3 = Admin(\"Tars\")\n",
        "e4 = Manager(\"Brand\")\n",
        "\n",
        "m1 = Meeting()\n",
        "m1 + e1\n",
        "m1 + e2\n",
        "m1 + e3\n",
        "m1 + e4\n",
        "print(f\"# Attendees to the meeting: {len(m1)}\")\n",
        "e1.set_name(\"luis\")\n",
        "e2.set_name(\"Jack\")\n",
        "e3.set_name(\"Joseth\")\n",
        "e4.set_name(\"stebam\")\n",
        "for e in m1.attendees:\n",
        "  print(f\"\\nMy name is {e.get_name()} and I work for {e._Employee__company}\")\n",
        "  e.say_id()\n",
        "  try:\n",
        "    e.say_user_info()\n",
        "  except AttributeError:\n",
        "    continue\n",
        "e1.del_name()\n"
      ]
    }
  ]
}